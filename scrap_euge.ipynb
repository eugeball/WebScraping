{
 "cells": [
  {
   "cell_type": "code",
   "execution_count": 1,
   "metadata": {},
   "outputs": [
    {
     "data": {
      "text/plain": [
       "200"
      ]
     },
     "execution_count": 1,
     "metadata": {},
     "output_type": "execute_result"
    }
   ],
   "source": [
    "import requests \n",
    "from bs4 import BeautifulSoup\n",
    "import pandas as pd\n",
    "import sqlalchemy as db\n",
    "import mysql.connector\n",
    "\n"
   ]
  },
  {
   "attachments": {},
   "cell_type": "markdown",
   "metadata": {},
   "source": [
    "En ingresar_objeto colocar el objeto que desee buscar en Mercadolibre"
   ]
  },
  {
   "cell_type": "code",
   "execution_count": null,
   "metadata": {},
   "outputs": [],
   "source": [
    "r=requests.get('https://listado.mercadolibre.com.ar/ingresar_objeto')\n",
    "r.status_code"
   ]
  },
  {
   "cell_type": "code",
   "execution_count": 2,
   "metadata": {},
   "outputs": [],
   "source": [
    "soup = BeautifulSoup (r.content, 'html.parser')"
   ]
  },
  {
   "cell_type": "code",
   "execution_count": 3,
   "metadata": {},
   "outputs": [],
   "source": [
    "titulos = soup.find_all('h2',attrs= {\"class\":\"ui-search-item__title shops__item-title\"})"
   ]
  },
  {
   "cell_type": "code",
   "execution_count": 4,
   "metadata": {},
   "outputs": [],
   "source": [
    "titulos = [i.text for i in titulos]"
   ]
  },
  {
   "cell_type": "code",
   "execution_count": 5,
   "metadata": {},
   "outputs": [],
   "source": [
    "urls = soup.find_all ('a',attrs={\"class\":\"ui-search-item__group__element shops__items-group-details ui-search-link\"})"
   ]
  },
  {
   "cell_type": "code",
   "execution_count": 6,
   "metadata": {},
   "outputs": [],
   "source": [
    "urls = [i.get ('href') for i in urls]"
   ]
  },
  {
   "cell_type": "code",
   "execution_count": 7,
   "metadata": {},
   "outputs": [],
   "source": [
    "precio = soup.find_all('div',attrs={\"class\":\"ui-search-price__second-line shops__price-second-line\"})\n",
    "precio = [i.text for i in precio]"
   ]
  },
  {
   "cell_type": "code",
   "execution_count": 8,
   "metadata": {},
   "outputs": [],
   "source": [
    "from lxml import etree"
   ]
  },
  {
   "cell_type": "code",
   "execution_count": 9,
   "metadata": {},
   "outputs": [],
   "source": [
    "dom = etree.HTML(str(soup))\n"
   ]
  },
  {
   "cell_type": "code",
   "execution_count": 10,
   "metadata": {},
   "outputs": [],
   "source": [
    "siguiente = dom.xpath ('//div[@class=\"ui-search-pagination shops__pagination-content\"]//ul/li[contains(@class,\"--next\")]/a')[0].get('href')"
   ]
  },
  {
   "cell_type": "code",
   "execution_count": 11,
   "metadata": {},
   "outputs": [],
   "source": [
    "ini= soup.find('span',attrs= {\"class\": \"andes-pagination__link\"}).text\n",
    "ini=int(ini)"
   ]
  },
  {
   "cell_type": "code",
   "execution_count": 12,
   "metadata": {},
   "outputs": [],
   "source": [
    "can =soup.find('li',attrs= {\"class\": \"andes-pagination__page-count\"})\n",
    "can = int(can.text.split(\" \")[1])"
   ]
  },
  {
   "cell_type": "code",
   "execution_count": 13,
   "metadata": {},
   "outputs": [],
   "source": [
    "lista_titulos =[]\n",
    "lista_url =[]\n",
    "lista_precios =[]"
   ]
  },
  {
   "cell_type": "code",
   "execution_count": 14,
   "metadata": {},
   "outputs": [
    {
     "name": "stdout",
     "output_type": "stream",
     "text": [
      "1 40\n",
      "2 40\n",
      "3 40\n",
      "4 40\n",
      "5 40\n",
      "6 40\n",
      "7 40\n",
      "8 40\n",
      "9 40\n",
      "10 40\n",
      "11 40\n",
      "12 40\n",
      "13 40\n",
      "14 40\n",
      "15 40\n",
      "16 40\n",
      "17 40\n",
      "18 40\n",
      "19 40\n",
      "20 40\n",
      "21 40\n",
      "22 40\n",
      "23 40\n",
      "24 40\n",
      "25 40\n",
      "26 40\n",
      "27 40\n",
      "28 40\n",
      "29 40\n",
      "30 40\n",
      "31 40\n",
      "32 40\n",
      "33 40\n",
      "34 40\n",
      "35 40\n",
      "36 40\n",
      "37 40\n",
      "38 40\n",
      "39 40\n",
      "40 40\n"
     ]
    }
   ],
   "source": [
    "siguiente = 'https://listado.mercadolibre.com.ar/ingresar_objeto'\n",
    "\n",
    "while True:\n",
    "\n",
    "    r=requests.get (siguiente)\n",
    "    if r.status_code == 200:\n",
    "        soup = BeautifulSoup (r.content, 'html.parser')\n",
    "        dom = etree.HTML(str(soup))\n",
    "        titulos = soup.find_all('h2',attrs= {\"class\":\"ui-search-item__title shops__item-title\"})\n",
    "        titulos = [i.text for i in titulos]\n",
    "        lista_titulos.extend(titulos)\n",
    "        urls = soup.find_all ('a',attrs={\"class\":\"ui-search-item__group__element shops__items-group-details ui-search-link\"})\n",
    "        urls = [i.get ('href') for i in urls]\n",
    "        lista_url.extend(urls)\n",
    "        precio = soup.find_all('div',attrs={\"class\":\"ui-search-price__second-line shops__price-second-line\"})\n",
    "        precio = [i.text for i in precio]\n",
    "        lista_precios.extend(precio)\n",
    "        botoninicial = soup.find('span',attrs={\"class\",\"andes-pagination__link\"}).text\n",
    "        botoninicial = int(botoninicial)    \n",
    "\n",
    "        can = soup.find('li',attrs={\"class\",\"andes-pagination__page-count\"})\n",
    "        can = int(can.text.split(\" \")[1])\n",
    "\n",
    "\n",
    "    else:\n",
    "        break\n",
    "    print(botoninicial,can)\n",
    "\n",
    "    if botoninicial == can:\n",
    "        break\n",
    "\n",
    "    siguiente = dom.xpath ('//div[@class=\"ui-search-pagination shops__pagination-content\"]//ul/li[contains(@class,\"--next\")]/a')[0].get('href')\n",
    "\n"
   ]
  },
  {
   "cell_type": "code",
   "execution_count": 16,
   "metadata": {},
   "outputs": [],
   "source": [
    "df = pd.DataFrame({\"titulo\": lista_titulos, \"url\": lista_url,\"precio\":lista_precios})"
   ]
  },
  {
   "cell_type": "code",
   "execution_count": null,
   "metadata": {},
   "outputs": [],
   "source": [
    "df.to_csv(\"ingresar_objeto\")"
   ]
  },
  {
   "cell_type": "code",
   "execution_count": null,
   "metadata": {},
   "outputs": [],
   "source": [
    "df= pd.read_csv (\"ingresar_objeto\")\n"
   ]
  },
  {
   "cell_type": "code",
   "execution_count": null,
   "metadata": {},
   "outputs": [],
   "source": [
    "\n",
    "user = '++++++++'\n",
    "password = '++++++++'\n",
    "database_ip = '++++++++'\n",
    "database_name = '++++++++'\n",
    "\n",
    "database_connection = db.create_engine(f'mysql+mysqlconnector://{user}:{password}@{database_ip}/{database_name}')\n",
    "connection = database_connection.connect()\n",
    "metadata = db.MetaData()\n",
    "\n",
    "\n",
    "df.to_sql(name='ingresar_objeto', con=database_connection, if_exists='append', index=False)"
   ]
  }
 ],
 "metadata": {
  "kernelspec": {
   "display_name": "Python 3",
   "language": "python",
   "name": "python3"
  },
  "language_info": {
   "codemirror_mode": {
    "name": "ipython",
    "version": 3
   },
   "file_extension": ".py",
   "mimetype": "text/x-python",
   "name": "python",
   "nbconvert_exporter": "python",
   "pygments_lexer": "ipython3",
   "version": "3.11.3"
  },
  "orig_nbformat": 4
 },
 "nbformat": 4,
 "nbformat_minor": 2
}
